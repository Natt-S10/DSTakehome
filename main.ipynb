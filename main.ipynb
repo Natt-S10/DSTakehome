{
 "cells": [
  {
   "attachments": {},
   "cell_type": "markdown",
   "metadata": {},
   "source": [
    "### Lib Imports and Reproducibility"
   ]
  },
  {
   "cell_type": "code",
   "execution_count": 18,
   "metadata": {},
   "outputs": [],
   "source": [
    "# setup modes\n",
    "preprocessing_verbose = 0\n",
    "train_verbose = 1"
   ]
  },
  {
   "cell_type": "code",
   "execution_count": 19,
   "metadata": {},
   "outputs": [],
   "source": [
    "# !pip install torchsummary\n",
    "import numpy as np\n",
    "import pandas as pd\n",
    "import matplotlib.pyplot as plt\n",
    "import sklearn\n",
    "import random\n",
    "import os\n",
    "\n",
    "import torch\n",
    "import torchvision\n",
    "import torchvision.transforms as transforms\n",
    "from torch.utils.data import Dataset\n",
    "from PIL import Image\n",
    "import os\n",
    "from IPython.display import display\n",
    "\n",
    "# Augmentation\n",
    "import albumentations as A\n",
    "from albumentations.pytorch import ToTensorV2\n",
    "device = \"cuda\" if torch.cuda.is_available() else \"cpu\"\n"
   ]
  },
  {
   "cell_type": "code",
   "execution_count": 20,
   "metadata": {},
   "outputs": [],
   "source": [
    "seed = 42\n",
    "torch.manual_seed(seed)\n",
    "torch.cuda.manual_seed(seed)\n",
    "torch.cuda.manual_seed_all(seed)\n",
    "np.random.seed(seed)\n",
    "torch.backends.cudnn.benchmark = True\n",
    "torch.backends.cudnn.deterministic = True\n",
    "# torch.use_deterministic_algorithms(True)\n",
    "random.seed(seed)\n",
    "\n",
    "from sklearn.exceptions import UndefinedMetricWarning\n",
    "def warn(*args, **kwargs):\n",
    "    pass\n",
    "import warnings\n",
    "warnings.warn = warn"
   ]
  },
  {
   "attachments": {},
   "cell_type": "markdown",
   "metadata": {},
   "source": [
    "### Define  Transform\n",
    "for training and for general inputs"
   ]
  },
  {
   "cell_type": "code",
   "execution_count": 21,
   "metadata": {},
   "outputs": [],
   "source": [
    "img_size = 224\n",
    "transform_train = transforms.Compose(\n",
    "    [transforms.Resize((256,256), interpolation=transforms.functional.InterpolationMode.BILINEAR),\n",
    "        transforms.RandomRotation(30,),\n",
    "        transforms.RandomCrop(img_size),\n",
    "        transforms.RandomHorizontalFlip(),\n",
    "        transforms.RandomVerticalFlip(),\n",
    "        transforms.ToTensor(),\n",
    "        transforms.Normalize(mean=[0.485, 0.456, 0.406], std=[0.229, 0.224, 0.225]) #nomalize imagenet pretrain\n",
    "    ])\n",
    "\n",
    "transform = transforms.Compose(\n",
    "    [transforms.Resize((img_size,img_size), interpolation=transforms.functional.InterpolationMode.BILINEAR),\n",
    "        transforms.ToTensor(),\n",
    "        transforms.Normalize(mean=[0.485, 0.456, 0.406], std=[0.229, 0.224, 0.225])\n",
    "    ])\n",
    "\n",
    "batch_size = 64"
   ]
  },
  {
   "cell_type": "code",
   "execution_count": 22,
   "metadata": {},
   "outputs": [
    {
     "name": "stdout",
     "output_type": "stream",
     "text": [
      "distinct_img_count:  13274\n",
      "train_images_list:  27679\n"
     ]
    }
   ],
   "source": [
    "# train_dir = \".\\\\train\\\\\"\n",
    "train_dir = \".\\\\resized\\\\\"\n",
    "# train_dir = \"/kaggle/input/2110446-data-science-and-data-engineering-2023/TraffyFondue/train/\"\n",
    "image_classes = [\"canal\", \"electric\" , \"flooding\" , \"light\" , \"road\" ,\\\n",
    "                 \"sanitary\" , \"sewer\" , \"sidewalk\" , \"stray\" , \"traffic\" ]\n",
    "\n",
    "def get_images(path, img_class, img_label):\n",
    "   images = []\n",
    "   for root, dirs, files in os.walk(path+img_class, topdown=True):\n",
    "      for name in files:\n",
    "         images.append((os.path.join(root, name), img_label))\n",
    "   return images\n",
    "\n",
    "train_images_list = []\n",
    "distinct_img_count = 0\n",
    "for idx, img_class in enumerate(image_classes):\n",
    "   img_paths = get_images(train_dir, img_class, idx)\n",
    "   distinct_img_count += len(img_paths)\n",
    "   if len(img_paths) >1600:\n",
    "      train_images_list.extend(img_paths)\n",
    "   elif len(img_paths) > 1000:\n",
    "      train_images_list.extend(img_paths*2)\n",
    "   elif len(img_paths) > 600:\n",
    "      train_images_list.extend(img_paths*3)\n",
    "   else:\n",
    "      train_images_list.extend(img_paths*5)\n",
    "\n",
    "print(\"distinct_img_count: \", distinct_img_count)\n",
    "print(\"train_images_list: \", len(train_images_list))\n",
    "img_pool = pd.DataFrame(train_images_list, columns=[\"image_path\", \"label\"])\n"
   ]
  },
  {
   "cell_type": "code",
   "execution_count": 23,
   "metadata": {},
   "outputs": [],
   "source": [
    "# analysis data\n",
    "# display each class distribution\n",
    "# display class id as class name\n",
    "if preprocessing_verbose:\n",
    "    img_pool[\"label_name\"] = img_pool[\"label\"].apply(lambda x: image_classes[x])\n",
    "    display(img_pool[\"label_name\"].value_counts())\n",
    "    display(img_pool[\"label_name\"].value_counts()/len(img_pool)*100)\n",
    "\n",
    "# original data\n",
    "# road        3403\n",
    "# flooding    2266\n",
    "# electric    1535\n",
    "# light       1400\n",
    "# canal       1270\n",
    "# sidewalk    1000\n",
    "# sanitary     700\n",
    "# sewer        600\n",
    "# traffic      600\n",
    "# stray        500\n",
    "# Name: label_name, dtype: int64road        25.636583\n",
    "# flooding    17.070966\n",
    "# electric    11.563960\n",
    "# light       10.546934\n",
    "# canal        9.567576\n",
    "# sidewalk     7.533524\n",
    "# sanitary     5.273467\n",
    "# sewer        4.520115\n",
    "# traffic      4.520115\n",
    "# stray        3.766762\n",
    "# Name: label_name, dtype: float64\n",
    "\n"
   ]
  },
  {
   "cell_type": "code",
   "execution_count": 24,
   "metadata": {},
   "outputs": [],
   "source": [
    "# try show image\n",
    "if preprocessing_verbose:\n",
    "    img_entry = img_pool.iloc[8]\n",
    "    img = Image.open(img_entry[\"image_path\"])\n",
    "    img = transform_train(img)\n",
    "    display(img.shape)\n",
    "    img = img.numpy().transpose(1,2,0)\n",
    "    plt.imshow(img)\n",
    "    plt.title(img_entry[\"label\"])"
   ]
  },
  {
   "cell_type": "code",
   "execution_count": 25,
   "metadata": {},
   "outputs": [],
   "source": [
    "from torchvision.io import read_image\n",
    "class TraffyFondueDataset(Dataset):\n",
    "    def __init__(self, train_imgs:pd.DataFrame, transform=None, train=True):\n",
    "        super().__init__()\n",
    "        self.train_images = train_imgs\n",
    "        self.transform = transform\n",
    "        self.train = train\n",
    "    \n",
    "    def __len__(self):\n",
    "        return len(self.train_images)\n",
    "    \n",
    "    def __getitem__(self, idx):\n",
    "        if self.train:\n",
    "            img = Image.open(self.train_images[idx][0]).convert('RGB')\n",
    "            label = self.train_images[idx][1]\n",
    "            if self.transform:\n",
    "                img = self.transform(img)\n",
    "            return img, label\n",
    "        else:\n",
    "            img = Image.open(self.train_images[idx][1]).convert('RGB')\n",
    "            if self.transform:\n",
    "                img = self.transform(img)\n",
    "            return img\n"
   ]
  },
  {
   "attachments": {},
   "cell_type": "markdown",
   "metadata": {},
   "source": [
    "### Train/Test split"
   ]
  },
  {
   "cell_type": "code",
   "execution_count": 26,
   "metadata": {},
   "outputs": [],
   "source": [
    "# train: 80%, val: 10%, test: 10%\n",
    "# stratify: make sure the distribution of each class is the same in train, val, test\n",
    "from sklearn.model_selection import train_test_split\n",
    "# proxy = img_pool.sample(frac=1, random_state=seed).reset_index(drop=True)\n",
    "proxy = img_pool\n",
    "train_images, valtest_images = train_test_split(proxy, test_size=0.2, random_state=seed, stratify=proxy[\"label\"])\n",
    "val_images, test_images = train_test_split(valtest_images, test_size=0.5, random_state=seed, stratify=valtest_images[\"label\"])\n",
    "\n",
    "# make dataset\n",
    "train_dataset = TraffyFondueDataset(train_images.values, transform=transform_train)\n",
    "val_dataset = TraffyFondueDataset(val_images.values, transform=transform)\n",
    "test_dataset = TraffyFondueDataset(test_images.values, transform=transform)\n",
    "\n",
    "# make dataloader\n",
    "NUM_WORKERS =8\n",
    "train_loader = torch.utils.data.DataLoader(train_dataset, batch_size=batch_size, shuffle=True,)\n",
    "val_loader = torch.utils.data.DataLoader(val_dataset, batch_size=batch_size, shuffle=False,)\n",
    "test_loader = torch.utils.data.DataLoader(test_dataset, batch_size=batch_size, shuffle=False,)\n"
   ]
  },
  {
   "cell_type": "code",
   "execution_count": 27,
   "metadata": {},
   "outputs": [],
   "source": [
    "# Validate stratify\n",
    "if preprocessing_verbose:\n",
    "    print(\"train\")\n",
    "    display(train_images[\"label\"].value_counts())\n",
    "    display(train_images[\"label\"].value_counts()/len(train_images)*100)\n",
    "    print(\"val\")\n",
    "    display(val_images[\"label\"].value_counts())\n",
    "    display(val_images[\"label\"].value_counts()/len(val_images)*100)\n",
    "    print(\"test\")\n",
    "    display(test_images[\"label\"].value_counts())\n",
    "    display(test_images[\"label\"].value_counts()/len(test_images)*100)"
   ]
  },
  {
   "cell_type": "code",
   "execution_count": 28,
   "metadata": {},
   "outputs": [],
   "source": [
    "# function to show an image\n",
    "def imshow(img):\n",
    "    img = img*torch.tensor([0.267, 0.256, 0.276]).mean() + torch.tensor([0.507, 0.487, 0.441]).mean()     # unnormalize\n",
    "    npimg = img.numpy()\n",
    "    plt.figure(figsize=(16,16))\n",
    "    plt.imshow(np.transpose(npimg, (1, 2, 0)))\n",
    "    plt.show()\n",
    "\n",
    "if preprocessing_verbose:\n",
    "    # get some random training images\n",
    "    dataiter = iter(val_loader)\n",
    "    images, labels = next(dataiter)\n",
    "\n",
    "    # show images\n",
    "    nrow = 8\n",
    "    imshow(torchvision.utils.make_grid(images, nrow=nrow))\n",
    "    # print labels\n",
    "    for i in [[image_classes[labels[j]] for j in range(i*nrow, (i+1)*nrow)] for i in range(4)]:\n",
    "        print((\"  \\t\".join(i)+\"\\n\").expandtabs(20))"
   ]
  },
  {
   "attachments": {},
   "cell_type": "markdown",
   "metadata": {},
   "source": [
    "## Making Model"
   ]
  },
  {
   "cell_type": "code",
   "execution_count": 29,
   "metadata": {},
   "outputs": [],
   "source": [
    "import torch.nn.functional as F\n",
    "import torch.nn as nn\n",
    "import torchvision\n",
    "from tqdm import tqdm\n",
    "# import classification report\n",
    "from sklearn.metrics import classification_report\n",
    "from sklearn.metrics import roc_auc_score\n",
    "\n",
    "\n",
    "# defining the model\n",
    "num_classes=10\n",
    "model_ft = torchvision.models.mnasnet0_5(weights='IMAGENET1K_V1')\n",
    "model_ft.classifier[-1] = nn.Sequential(\n",
    "    nn.Linear(in_features=1280, out_features=num_classes),\n",
    "    nn.Softmax(dim=1)\n",
    "        )"
   ]
  },
  {
   "cell_type": "code",
   "execution_count": 30,
   "metadata": {},
   "outputs": [
    {
     "name": "stdout",
     "output_type": "stream",
     "text": [
      "cuda\n"
     ]
    }
   ],
   "source": [
    "\n",
    "print(device)\n",
    "net = model_ft.to(device)"
   ]
  },
  {
   "cell_type": "code",
   "execution_count": 31,
   "metadata": {},
   "outputs": [
    {
     "name": "stdout",
     "output_type": "stream",
     "text": [
      "----------------------------------------------------------------\n",
      "        Layer (type)               Output Shape         Param #\n",
      "================================================================\n",
      "            Conv2d-1         [64, 16, 112, 112]             432\n",
      "       BatchNorm2d-2         [64, 16, 112, 112]              32\n",
      "              ReLU-3         [64, 16, 112, 112]               0\n",
      "            Conv2d-4         [64, 16, 112, 112]             144\n",
      "       BatchNorm2d-5         [64, 16, 112, 112]              32\n",
      "              ReLU-6         [64, 16, 112, 112]               0\n",
      "            Conv2d-7          [64, 8, 112, 112]             128\n",
      "       BatchNorm2d-8          [64, 8, 112, 112]              16\n",
      "            Conv2d-9         [64, 24, 112, 112]             192\n",
      "      BatchNorm2d-10         [64, 24, 112, 112]              48\n",
      "             ReLU-11         [64, 24, 112, 112]               0\n",
      "           Conv2d-12           [64, 24, 56, 56]             216\n",
      "      BatchNorm2d-13           [64, 24, 56, 56]              48\n",
      "             ReLU-14           [64, 24, 56, 56]               0\n",
      "           Conv2d-15           [64, 16, 56, 56]             384\n",
      "      BatchNorm2d-16           [64, 16, 56, 56]              32\n",
      "_InvertedResidual-17           [64, 16, 56, 56]               0\n",
      "           Conv2d-18           [64, 48, 56, 56]             768\n",
      "      BatchNorm2d-19           [64, 48, 56, 56]              96\n",
      "             ReLU-20           [64, 48, 56, 56]               0\n",
      "           Conv2d-21           [64, 48, 56, 56]             432\n",
      "      BatchNorm2d-22           [64, 48, 56, 56]              96\n",
      "             ReLU-23           [64, 48, 56, 56]               0\n",
      "           Conv2d-24           [64, 16, 56, 56]             768\n",
      "      BatchNorm2d-25           [64, 16, 56, 56]              32\n",
      "_InvertedResidual-26           [64, 16, 56, 56]               0\n",
      "           Conv2d-27           [64, 48, 56, 56]             768\n",
      "      BatchNorm2d-28           [64, 48, 56, 56]              96\n",
      "             ReLU-29           [64, 48, 56, 56]               0\n",
      "           Conv2d-30           [64, 48, 56, 56]             432\n",
      "      BatchNorm2d-31           [64, 48, 56, 56]              96\n",
      "             ReLU-32           [64, 48, 56, 56]               0\n",
      "           Conv2d-33           [64, 16, 56, 56]             768\n",
      "      BatchNorm2d-34           [64, 16, 56, 56]              32\n",
      "_InvertedResidual-35           [64, 16, 56, 56]               0\n",
      "           Conv2d-36           [64, 48, 56, 56]             768\n",
      "      BatchNorm2d-37           [64, 48, 56, 56]              96\n",
      "             ReLU-38           [64, 48, 56, 56]               0\n",
      "           Conv2d-39           [64, 48, 28, 28]           1,200\n",
      "      BatchNorm2d-40           [64, 48, 28, 28]              96\n",
      "             ReLU-41           [64, 48, 28, 28]               0\n",
      "           Conv2d-42           [64, 24, 28, 28]           1,152\n",
      "      BatchNorm2d-43           [64, 24, 28, 28]              48\n",
      "_InvertedResidual-44           [64, 24, 28, 28]               0\n",
      "           Conv2d-45           [64, 72, 28, 28]           1,728\n",
      "      BatchNorm2d-46           [64, 72, 28, 28]             144\n",
      "             ReLU-47           [64, 72, 28, 28]               0\n",
      "           Conv2d-48           [64, 72, 28, 28]           1,800\n",
      "      BatchNorm2d-49           [64, 72, 28, 28]             144\n",
      "             ReLU-50           [64, 72, 28, 28]               0\n",
      "           Conv2d-51           [64, 24, 28, 28]           1,728\n",
      "      BatchNorm2d-52           [64, 24, 28, 28]              48\n",
      "_InvertedResidual-53           [64, 24, 28, 28]               0\n",
      "           Conv2d-54           [64, 72, 28, 28]           1,728\n",
      "      BatchNorm2d-55           [64, 72, 28, 28]             144\n",
      "             ReLU-56           [64, 72, 28, 28]               0\n",
      "           Conv2d-57           [64, 72, 28, 28]           1,800\n",
      "      BatchNorm2d-58           [64, 72, 28, 28]             144\n",
      "             ReLU-59           [64, 72, 28, 28]               0\n",
      "           Conv2d-60           [64, 24, 28, 28]           1,728\n",
      "      BatchNorm2d-61           [64, 24, 28, 28]              48\n",
      "_InvertedResidual-62           [64, 24, 28, 28]               0\n",
      "           Conv2d-63          [64, 144, 28, 28]           3,456\n",
      "      BatchNorm2d-64          [64, 144, 28, 28]             288\n",
      "             ReLU-65          [64, 144, 28, 28]               0\n",
      "           Conv2d-66          [64, 144, 14, 14]           3,600\n",
      "      BatchNorm2d-67          [64, 144, 14, 14]             288\n",
      "             ReLU-68          [64, 144, 14, 14]               0\n",
      "           Conv2d-69           [64, 40, 14, 14]           5,760\n",
      "      BatchNorm2d-70           [64, 40, 14, 14]              80\n",
      "_InvertedResidual-71           [64, 40, 14, 14]               0\n",
      "           Conv2d-72          [64, 240, 14, 14]           9,600\n",
      "      BatchNorm2d-73          [64, 240, 14, 14]             480\n",
      "             ReLU-74          [64, 240, 14, 14]               0\n",
      "           Conv2d-75          [64, 240, 14, 14]           6,000\n",
      "      BatchNorm2d-76          [64, 240, 14, 14]             480\n",
      "             ReLU-77          [64, 240, 14, 14]               0\n",
      "           Conv2d-78           [64, 40, 14, 14]           9,600\n",
      "      BatchNorm2d-79           [64, 40, 14, 14]              80\n",
      "_InvertedResidual-80           [64, 40, 14, 14]               0\n",
      "           Conv2d-81          [64, 240, 14, 14]           9,600\n",
      "      BatchNorm2d-82          [64, 240, 14, 14]             480\n",
      "             ReLU-83          [64, 240, 14, 14]               0\n",
      "           Conv2d-84          [64, 240, 14, 14]           6,000\n",
      "      BatchNorm2d-85          [64, 240, 14, 14]             480\n",
      "             ReLU-86          [64, 240, 14, 14]               0\n",
      "           Conv2d-87           [64, 40, 14, 14]           9,600\n",
      "      BatchNorm2d-88           [64, 40, 14, 14]              80\n",
      "_InvertedResidual-89           [64, 40, 14, 14]               0\n",
      "           Conv2d-90          [64, 240, 14, 14]           9,600\n",
      "      BatchNorm2d-91          [64, 240, 14, 14]             480\n",
      "             ReLU-92          [64, 240, 14, 14]               0\n",
      "           Conv2d-93          [64, 240, 14, 14]           2,160\n",
      "      BatchNorm2d-94          [64, 240, 14, 14]             480\n",
      "             ReLU-95          [64, 240, 14, 14]               0\n",
      "           Conv2d-96           [64, 48, 14, 14]          11,520\n",
      "      BatchNorm2d-97           [64, 48, 14, 14]              96\n",
      "_InvertedResidual-98           [64, 48, 14, 14]               0\n",
      "           Conv2d-99          [64, 288, 14, 14]          13,824\n",
      "     BatchNorm2d-100          [64, 288, 14, 14]             576\n",
      "            ReLU-101          [64, 288, 14, 14]               0\n",
      "          Conv2d-102          [64, 288, 14, 14]           2,592\n",
      "     BatchNorm2d-103          [64, 288, 14, 14]             576\n",
      "            ReLU-104          [64, 288, 14, 14]               0\n",
      "          Conv2d-105           [64, 48, 14, 14]          13,824\n",
      "     BatchNorm2d-106           [64, 48, 14, 14]              96\n",
      "_InvertedResidual-107           [64, 48, 14, 14]               0\n",
      "          Conv2d-108          [64, 288, 14, 14]          13,824\n",
      "     BatchNorm2d-109          [64, 288, 14, 14]             576\n",
      "            ReLU-110          [64, 288, 14, 14]               0\n",
      "          Conv2d-111            [64, 288, 7, 7]           7,200\n",
      "     BatchNorm2d-112            [64, 288, 7, 7]             576\n",
      "            ReLU-113            [64, 288, 7, 7]               0\n",
      "          Conv2d-114             [64, 96, 7, 7]          27,648\n",
      "     BatchNorm2d-115             [64, 96, 7, 7]             192\n",
      "_InvertedResidual-116             [64, 96, 7, 7]               0\n",
      "          Conv2d-117            [64, 576, 7, 7]          55,296\n",
      "     BatchNorm2d-118            [64, 576, 7, 7]           1,152\n",
      "            ReLU-119            [64, 576, 7, 7]               0\n",
      "          Conv2d-120            [64, 576, 7, 7]          14,400\n",
      "     BatchNorm2d-121            [64, 576, 7, 7]           1,152\n",
      "            ReLU-122            [64, 576, 7, 7]               0\n",
      "          Conv2d-123             [64, 96, 7, 7]          55,296\n",
      "     BatchNorm2d-124             [64, 96, 7, 7]             192\n",
      "_InvertedResidual-125             [64, 96, 7, 7]               0\n",
      "          Conv2d-126            [64, 576, 7, 7]          55,296\n",
      "     BatchNorm2d-127            [64, 576, 7, 7]           1,152\n",
      "            ReLU-128            [64, 576, 7, 7]               0\n",
      "          Conv2d-129            [64, 576, 7, 7]          14,400\n",
      "     BatchNorm2d-130            [64, 576, 7, 7]           1,152\n",
      "            ReLU-131            [64, 576, 7, 7]               0\n",
      "          Conv2d-132             [64, 96, 7, 7]          55,296\n",
      "     BatchNorm2d-133             [64, 96, 7, 7]             192\n",
      "_InvertedResidual-134             [64, 96, 7, 7]               0\n",
      "          Conv2d-135            [64, 576, 7, 7]          55,296\n",
      "     BatchNorm2d-136            [64, 576, 7, 7]           1,152\n",
      "            ReLU-137            [64, 576, 7, 7]               0\n",
      "          Conv2d-138            [64, 576, 7, 7]          14,400\n",
      "     BatchNorm2d-139            [64, 576, 7, 7]           1,152\n",
      "            ReLU-140            [64, 576, 7, 7]               0\n",
      "          Conv2d-141             [64, 96, 7, 7]          55,296\n",
      "     BatchNorm2d-142             [64, 96, 7, 7]             192\n",
      "_InvertedResidual-143             [64, 96, 7, 7]               0\n",
      "          Conv2d-144            [64, 576, 7, 7]          55,296\n",
      "     BatchNorm2d-145            [64, 576, 7, 7]           1,152\n",
      "            ReLU-146            [64, 576, 7, 7]               0\n",
      "          Conv2d-147            [64, 576, 7, 7]           5,184\n",
      "     BatchNorm2d-148            [64, 576, 7, 7]           1,152\n",
      "            ReLU-149            [64, 576, 7, 7]               0\n",
      "          Conv2d-150            [64, 160, 7, 7]          92,160\n",
      "     BatchNorm2d-151            [64, 160, 7, 7]             320\n",
      "_InvertedResidual-152            [64, 160, 7, 7]               0\n",
      "          Conv2d-153           [64, 1280, 7, 7]         204,800\n",
      "     BatchNorm2d-154           [64, 1280, 7, 7]           2,560\n",
      "            ReLU-155           [64, 1280, 7, 7]               0\n",
      "         Dropout-156                 [64, 1280]               0\n",
      "          Linear-157                   [64, 10]          12,810\n",
      "         Softmax-158                   [64, 10]               0\n",
      "================================================================\n",
      "Total params: 950,322\n",
      "Trainable params: 950,322\n",
      "Non-trainable params: 0\n",
      "----------------------------------------------------------------\n",
      "Input size (MB): 36.75\n",
      "Forward/backward pass size (MB): 4442.03\n",
      "Params size (MB): 3.63\n",
      "Estimated Total Size (MB): 4482.40\n",
      "----------------------------------------------------------------\n"
     ]
    }
   ],
   "source": [
    "from torchsummary import summary\n",
    "summary(net, (3, img_size, img_size), batch_size = batch_size, device=device)"
   ]
  },
  {
   "cell_type": "code",
   "execution_count": 32,
   "metadata": {},
   "outputs": [],
   "source": [
    "criteria = nn.CrossEntropyLoss()\n",
    "optimizer = torch.optim.Adam(net.parameters(), lr=0.001)\n",
    "scheduler = torch.optim.lr_scheduler.StepLR(optimizer, step_size=7, gamma=0.5)"
   ]
  },
  {
   "cell_type": "code",
   "execution_count": 33,
   "metadata": {},
   "outputs": [],
   "source": [
    "NUM_EPOCHS = 20\n",
    "MODEL_DIR = \"models\"\n",
    "# MODEL_DIR = \"/kaggle/working/models\"\n",
    "model_name = \"efficientnet_b0_v1\"\n",
    "model_path = os.path.join(MODEL_DIR, model_name)\n",
    "\n",
    "# if the model directory is not exist, create it\n",
    "if not os.path.exists(MODEL_DIR):\n",
    "    os.makedirs(MODEL_DIR)"
   ]
  },
  {
   "attachments": {},
   "cell_type": "markdown",
   "metadata": {},
   "source": [
    "### TRAINING"
   ]
  },
  {
   "cell_type": "code",
   "execution_count": 34,
   "metadata": {},
   "outputs": [
    {
     "name": "stdout",
     "output_type": "stream",
     "text": [
      "finished: time = 0.00000 sec\n",
      "Epoch 1/25\n"
     ]
    },
    {
     "name": "stderr",
     "output_type": "stream",
     "text": [
      "100%|██████████| 346/346 [00:58<00:00,  5.89it/s]\n",
      "100%|██████████| 44/44 [00:05<00:00,  8.76it/s]\n"
     ]
    },
    {
     "name": "stdout",
     "output_type": "stream",
     "text": [
      "loss: 2.0028, acc: 0.4570, f1: 0.3895\n",
      "finished: time = 63.82334 sec\n",
      "Epoch 2/25\n"
     ]
    },
    {
     "name": "stderr",
     "output_type": "stream",
     "text": [
      "100%|██████████| 346/346 [00:57<00:00,  5.98it/s]\n",
      "100%|██████████| 44/44 [00:04<00:00,  8.94it/s]\n"
     ]
    },
    {
     "name": "stdout",
     "output_type": "stream",
     "text": [
      "loss: 1.9470, acc: 0.5116, f1: 0.4814\n",
      "finished: time = 62.83357 sec\n",
      "Epoch 3/25\n"
     ]
    },
    {
     "name": "stderr",
     "output_type": "stream",
     "text": [
      "100%|██████████| 346/346 [00:58<00:00,  5.95it/s]\n",
      "100%|██████████| 44/44 [00:04<00:00,  8.85it/s]\n"
     ]
    },
    {
     "name": "stdout",
     "output_type": "stream",
     "text": [
      "loss: 1.9580, acc: 0.5029, f1: 0.4741\n",
      "finished: time = 63.16102 sec\n",
      "Epoch 4/25\n"
     ]
    },
    {
     "name": "stderr",
     "output_type": "stream",
     "text": [
      "100%|██████████| 346/346 [00:58<00:00,  5.87it/s]\n",
      "100%|██████████| 44/44 [00:05<00:00,  8.79it/s]\n"
     ]
    },
    {
     "name": "stdout",
     "output_type": "stream",
     "text": [
      "loss: 1.9296, acc: 0.5318, f1: 0.5104\n",
      "finished: time = 63.97995 sec\n",
      "Epoch 5/25\n"
     ]
    },
    {
     "name": "stderr",
     "output_type": "stream",
     "text": [
      "100%|██████████| 346/346 [00:58<00:00,  5.89it/s]\n",
      "100%|██████████| 44/44 [00:05<00:00,  8.70it/s]\n"
     ]
    },
    {
     "name": "stdout",
     "output_type": "stream",
     "text": [
      "loss: 1.9351, acc: 0.5206, f1: 0.4980\n",
      "finished: time = 63.82100 sec\n",
      "Epoch 6/25\n"
     ]
    },
    {
     "name": "stderr",
     "output_type": "stream",
     "text": [
      "100%|██████████| 346/346 [00:58<00:00,  5.91it/s]\n",
      "100%|██████████| 44/44 [00:04<00:00,  8.88it/s]\n"
     ]
    },
    {
     "name": "stdout",
     "output_type": "stream",
     "text": [
      "loss: 1.9218, acc: 0.5336, f1: 0.5059\n",
      "finished: time = 63.61200 sec\n",
      "Epoch 7/25\n"
     ]
    },
    {
     "name": "stderr",
     "output_type": "stream",
     "text": [
      "100%|██████████| 346/346 [00:58<00:00,  5.92it/s]\n",
      "100%|██████████| 44/44 [00:04<00:00,  8.83it/s]\n"
     ]
    },
    {
     "name": "stdout",
     "output_type": "stream",
     "text": [
      "loss: 1.8952, acc: 0.5647, f1: 0.5476\n",
      "finished: time = 63.50441 sec\n",
      "Epoch 8/25\n"
     ]
    },
    {
     "name": "stderr",
     "output_type": "stream",
     "text": [
      "100%|██████████| 346/346 [00:58<00:00,  5.92it/s]\n",
      "100%|██████████| 44/44 [00:05<00:00,  8.63it/s]\n"
     ]
    },
    {
     "name": "stdout",
     "output_type": "stream",
     "text": [
      "loss: 1.8835, acc: 0.5784, f1: 0.5620\n",
      "finished: time = 63.62225 sec\n",
      "Epoch 9/25\n"
     ]
    },
    {
     "name": "stderr",
     "output_type": "stream",
     "text": [
      "100%|██████████| 346/346 [00:58<00:00,  5.96it/s]\n",
      "100%|██████████| 44/44 [00:04<00:00,  8.94it/s]\n"
     ]
    },
    {
     "name": "stdout",
     "output_type": "stream",
     "text": [
      "loss: 1.8720, acc: 0.5853, f1: 0.5750\n",
      "finished: time = 63.01001 sec\n",
      "Epoch 10/25\n"
     ]
    },
    {
     "name": "stderr",
     "output_type": "stream",
     "text": [
      "100%|██████████| 346/346 [00:57<00:00,  5.98it/s]\n",
      "100%|██████████| 44/44 [00:04<00:00,  8.98it/s]\n"
     ]
    },
    {
     "name": "stdout",
     "output_type": "stream",
     "text": [
      "loss: 1.8652, acc: 0.5983, f1: 0.5860\n",
      "finished: time = 62.86806 sec\n",
      "Epoch 11/25\n"
     ]
    },
    {
     "name": "stderr",
     "output_type": "stream",
     "text": [
      "100%|██████████| 346/346 [00:58<00:00,  5.95it/s]\n",
      "100%|██████████| 44/44 [00:04<00:00,  8.92it/s]\n"
     ]
    },
    {
     "name": "stdout",
     "output_type": "stream",
     "text": [
      "loss: 1.8498, acc: 0.6109, f1: 0.6029\n",
      "finished: time = 63.12629 sec\n",
      "Epoch 12/25\n"
     ]
    },
    {
     "name": "stderr",
     "output_type": "stream",
     "text": [
      "100%|██████████| 346/346 [00:57<00:00,  5.97it/s]\n",
      "100%|██████████| 44/44 [00:04<00:00,  8.89it/s]\n"
     ]
    },
    {
     "name": "stdout",
     "output_type": "stream",
     "text": [
      "loss: 1.8404, acc: 0.6207, f1: 0.6116\n",
      "finished: time = 62.94145 sec\n",
      "Epoch 13/25\n"
     ]
    },
    {
     "name": "stderr",
     "output_type": "stream",
     "text": [
      "100%|██████████| 346/346 [00:57<00:00,  5.99it/s]\n",
      "100%|██████████| 44/44 [00:04<00:00,  8.90it/s]\n"
     ]
    },
    {
     "name": "stdout",
     "output_type": "stream",
     "text": [
      "loss: 1.8318, acc: 0.6304, f1: 0.6226\n",
      "finished: time = 62.75001 sec\n",
      "Epoch 14/25\n"
     ]
    },
    {
     "name": "stderr",
     "output_type": "stream",
     "text": [
      "100%|██████████| 346/346 [00:58<00:00,  5.97it/s]\n",
      "100%|██████████| 44/44 [00:04<00:00,  8.90it/s]\n"
     ]
    },
    {
     "name": "stdout",
     "output_type": "stream",
     "text": [
      "loss: 1.8241, acc: 0.6420, f1: 0.6363\n",
      "finished: time = 63.01595 sec\n",
      "Epoch 15/25\n"
     ]
    },
    {
     "name": "stderr",
     "output_type": "stream",
     "text": [
      "100%|██████████| 346/346 [00:57<00:00,  5.97it/s]\n",
      "100%|██████████| 44/44 [00:04<00:00,  8.87it/s]\n"
     ]
    },
    {
     "name": "stdout",
     "output_type": "stream",
     "text": [
      "loss: 1.8137, acc: 0.6517, f1: 0.6499\n",
      "finished: time = 62.99161 sec\n",
      "Epoch 16/25\n"
     ]
    },
    {
     "name": "stderr",
     "output_type": "stream",
     "text": [
      "100%|██████████| 346/346 [00:57<00:00,  5.98it/s]\n",
      "100%|██████████| 44/44 [00:04<00:00,  8.90it/s]\n"
     ]
    },
    {
     "name": "stdout",
     "output_type": "stream",
     "text": [
      "loss: 1.8114, acc: 0.6528, f1: 0.6512\n",
      "finished: time = 62.90265 sec\n",
      "Epoch 17/25\n"
     ]
    },
    {
     "name": "stderr",
     "output_type": "stream",
     "text": [
      "100%|██████████| 346/346 [00:57<00:00,  5.98it/s]\n",
      "100%|██████████| 44/44 [00:04<00:00,  8.90it/s]\n"
     ]
    },
    {
     "name": "stdout",
     "output_type": "stream",
     "text": [
      "loss: 1.8103, acc: 0.6535, f1: 0.6515\n",
      "finished: time = 62.89852 sec\n",
      "Epoch 18/25\n"
     ]
    },
    {
     "name": "stderr",
     "output_type": "stream",
     "text": [
      "100%|██████████| 346/346 [00:58<00:00,  5.96it/s]\n",
      "100%|██████████| 44/44 [00:05<00:00,  8.76it/s]\n"
     ]
    },
    {
     "name": "stdout",
     "output_type": "stream",
     "text": [
      "loss: 1.8067, acc: 0.6561, f1: 0.6542\n",
      "finished: time = 63.14668 sec\n",
      "Epoch 19/25\n"
     ]
    },
    {
     "name": "stderr",
     "output_type": "stream",
     "text": [
      "100%|██████████| 346/346 [00:57<00:00,  5.98it/s]\n",
      "100%|██████████| 44/44 [00:04<00:00,  8.83it/s]\n"
     ]
    },
    {
     "name": "stdout",
     "output_type": "stream",
     "text": [
      "loss: 1.7994, acc: 0.6647, f1: 0.6626\n",
      "finished: time = 62.90384 sec\n",
      "Epoch 20/25\n"
     ]
    },
    {
     "name": "stderr",
     "output_type": "stream",
     "text": [
      "100%|██████████| 346/346 [00:57<00:00,  5.98it/s]\n",
      "100%|██████████| 44/44 [00:04<00:00,  8.94it/s]\n"
     ]
    },
    {
     "name": "stdout",
     "output_type": "stream",
     "text": [
      "loss: 1.7976, acc: 0.6680, f1: 0.6664\n",
      "finished: time = 62.88101 sec\n",
      "Epoch 21/25\n"
     ]
    },
    {
     "name": "stderr",
     "output_type": "stream",
     "text": [
      "100%|██████████| 346/346 [01:00<00:00,  5.74it/s]\n",
      "100%|██████████| 44/44 [00:05<00:00,  8.54it/s]\n"
     ]
    },
    {
     "name": "stdout",
     "output_type": "stream",
     "text": [
      "loss: 1.7989, acc: 0.6622, f1: 0.6626\n",
      "finished: time = 65.49700 sec\n",
      "Epoch 22/25\n"
     ]
    },
    {
     "name": "stderr",
     "output_type": "stream",
     "text": [
      "100%|██████████| 346/346 [00:58<00:00,  5.89it/s]\n",
      "100%|██████████| 44/44 [00:05<00:00,  8.72it/s]\n"
     ]
    },
    {
     "name": "stdout",
     "output_type": "stream",
     "text": [
      "loss: 1.7949, acc: 0.6694, f1: 0.6688\n",
      "finished: time = 63.81400 sec\n",
      "Epoch 23/25\n"
     ]
    },
    {
     "name": "stderr",
     "output_type": "stream",
     "text": [
      "100%|██████████| 346/346 [00:58<00:00,  5.94it/s]\n",
      "100%|██████████| 44/44 [00:04<00:00,  8.86it/s]\n"
     ]
    },
    {
     "name": "stdout",
     "output_type": "stream",
     "text": [
      "loss: 1.7888, acc: 0.6749, f1: 0.6728\n",
      "finished: time = 63.24180 sec\n",
      "Epoch 24/25\n"
     ]
    },
    {
     "name": "stderr",
     "output_type": "stream",
     "text": [
      "100%|██████████| 346/346 [00:58<00:00,  5.94it/s]\n",
      "100%|██████████| 44/44 [00:04<00:00,  8.81it/s]\n"
     ]
    },
    {
     "name": "stdout",
     "output_type": "stream",
     "text": [
      "loss: 1.7896, acc: 0.6752, f1: 0.6748\n",
      "finished: time = 63.25600 sec\n",
      "Epoch 25/25\n"
     ]
    },
    {
     "name": "stderr",
     "output_type": "stream",
     "text": [
      "100%|██████████| 346/346 [00:58<00:00,  5.95it/s]\n",
      "100%|██████████| 44/44 [00:05<00:00,  8.74it/s]"
     ]
    },
    {
     "name": "stdout",
     "output_type": "stream",
     "text": [
      "loss: 1.7885, acc: 0.6738, f1: 0.6742\n",
      "Finish training\n",
      "best model achieved 1.7885 loss on validation set\n",
      "from epoch 25\n"
     ]
    },
    {
     "name": "stderr",
     "output_type": "stream",
     "text": [
      "\n"
     ]
    }
   ],
   "source": [
    "import time\n",
    "# training\n",
    "history_train = {\"loss\":np.zeros(NUM_EPOCHS), \"acc\":np.zeros(NUM_EPOCHS), \"f1\":np.zeros(NUM_EPOCHS)}\n",
    "history_val = {\"loss\":np.zeros(NUM_EPOCHS), \"acc\":np.zeros(NUM_EPOCHS), \"f1\":np.zeros(NUM_EPOCHS)}\n",
    "min_val_loss = np.inf\n",
    "best_epoch = 0\n",
    "epoch_start = time.time()\n",
    "for epoch in range(NUM_EPOCHS):\n",
    "    print(\"finished: time = {:.5f} sec\".format(time.time()-epoch_start))\n",
    "    print(\"Epoch {}/{}\".format(epoch+1, NUM_EPOCHS))\n",
    "    epoch_start = time.time()\n",
    "    net.train()\n",
    "    y_pred = []\n",
    "    y_label = []\n",
    "    training_loss = 0.0\n",
    "    n = 0\n",
    "    with torch.set_grad_enabled(True):\n",
    "        if train_verbose:\n",
    "            pbar = tqdm(train_loader)\n",
    "        else:\n",
    "            pbar = train_loader\n",
    "        for data in pbar:\n",
    "\n",
    "            # prepare data\n",
    "            inputs, labels = data\n",
    "            inputs = inputs.to(device)\n",
    "            labels = labels.to(device)\n",
    "\n",
    "            # zero the parameter gradients\n",
    "            optimizer.zero_grad()\n",
    "\n",
    "            # forward\n",
    "            outputs = net(inputs)\n",
    "            _, preds = torch.max(outputs, 1)\n",
    "\n",
    "            # backward + optimize\n",
    "            loss = criteria(outputs, labels)\n",
    "            loss.backward()\n",
    "            optimizer.step()\n",
    "\n",
    "            # statistics\n",
    "            training_loss += loss.item()\n",
    "            n += 1\n",
    "\n",
    "            y_label.extend(labels.cpu().numpy())\n",
    "            y_pred.extend(outputs.argmax(dim=1).cpu().numpy())\n",
    "    \n",
    "    scheduler.step()\n",
    "    # calculate loss and accuracy of training\n",
    "    if train_verbose:\n",
    "        report = classification_report(y_label, y_pred, output_dict=True)\n",
    "        acc = report[\"accuracy\"]\n",
    "        f1 = report[\"macro avg\"][\"f1-score\"]\n",
    "        pbar.set_description(\"loss: {:.4f}, acc: {:.4f}, f1: {:.4f}\".format(training_loss/n, acc, f1))\n",
    "        pbar.set_description(\"loss: {:.4f}\".format(loss.item()))\n",
    "        pbar.update(1)\n",
    "        pbar.close()\n",
    "    history_train[\"loss\"][epoch] = training_loss/n\n",
    "    history_train[\"acc\"][epoch] = acc\n",
    "    history_train[\"f1\"][epoch] = f1\n",
    "\n",
    "    # validation\n",
    "    # print(\"Validation\")\n",
    "    net.eval()\n",
    "    y_pred = []\n",
    "    y_label = []\n",
    "    val_loss = 0.0\n",
    "    n = 0\n",
    "\n",
    "    optimizer.zero_grad()\n",
    "    with torch.no_grad():\n",
    "        if train_verbose:\n",
    "            pbar = tqdm(val_loader)\n",
    "        else:\n",
    "            pbar = val_loader\n",
    "        for data in pbar:\n",
    "            # prepare data\n",
    "            inputs, labels = data\n",
    "            inputs = inputs.to(device)\n",
    "            labels = labels.to(device)\n",
    "\n",
    "            # forward\n",
    "            outputs = net(inputs)\n",
    "            _, preds = torch.max(outputs, 1)\n",
    "\n",
    "            # statistics\n",
    "            loss = criteria(outputs, labels)\n",
    "            val_loss += loss.item()\n",
    "            n += 1\n",
    "\n",
    "            y_label.extend(labels.cpu().numpy())\n",
    "            y_pred.extend(outputs.argmax(dim=1).cpu().numpy())\n",
    "\n",
    "    # calculate loss and accuracy of validation\n",
    "    if train_verbose:\n",
    "        report = classification_report(y_label, y_pred, output_dict=True)\n",
    "        acc = report[\"accuracy\"]\n",
    "        f1 = report[\"macro avg\"][\"f1-score\"]\n",
    "        pbar.set_description(\"loss: {:.4f}, acc: {:.4f}, f1: {:.4f}\".format(val_loss/n, acc, f1))\n",
    "        pbar.update(1)\n",
    "        pbar.close()\n",
    "        # print acc and f1 to console\n",
    "        print(\"loss: {:.4f}, acc: {:.4f}, f1: {:.4f}\".format(val_loss/n, acc, f1))\n",
    "\n",
    "    history_val[\"loss\"][epoch] = val_loss/n\n",
    "    history_val[\"acc\"][epoch] = acc\n",
    "    history_val[\"f1\"][epoch] = f1\n",
    "\n",
    "    # save the model if the validation loss is decreased\n",
    "    if val_loss/n < min_val_loss:\n",
    "        torch.save(net.state_dict(), model_path)\n",
    "        min_val_loss = val_loss/n\n",
    "        best_epoch = epoch\n",
    "    \n",
    "\n",
    "# report the training and validation loss and accuracy of the saved model\n",
    "print(\"Finish training\")\n",
    "print(\"best model achieved {:.4f} loss on validation set\".format(min_val_loss))\n",
    "print(\"from epoch {}\".format(best_epoch+1))"
   ]
  },
  {
   "attachments": {},
   "cell_type": "markdown",
   "metadata": {},
   "source": [
    "Monitoring"
   ]
  },
  {
   "cell_type": "code",
   "execution_count": 35,
   "metadata": {},
   "outputs": [
    {
     "data": {
      "image/png": "[encoded data removed]",
      "text/plain": [
       "<Figure size 1500x500 with 2 Axes>"
      ]
     },
     "metadata": {},
     "output_type": "display_data"
    }
   ],
   "source": [
    "# plot the training and validation loss and accuracy history\n",
    "plt.figure(figsize=(15, 5))\n",
    "plt.subplot(1, 2, 1)\n",
    "plt.plot(history_train[\"loss\"], label=\"train\")\n",
    "plt.plot(history_val[\"loss\"], label=\"val\")\n",
    "plt.title(\"Loss\")\n",
    "plt.legend()\n",
    "plt.subplot(1, 2, 2)\n",
    "plt.plot(history_train[\"acc\"], label=\"train\")\n",
    "plt.plot(history_val[\"acc\"], label=\"val\")\n",
    "plt.title(\"Accuracy\")\n",
    "plt.legend()\n",
    "plt.show()"
   ]
  },
  {
   "cell_type": "code",
   "execution_count": 36,
   "metadata": {},
   "outputs": [
    {
     "name": "stdout",
     "output_type": "stream",
     "text": [
      "Evaluate on test set\n"
     ]
    },
    {
     "name": "stderr",
     "output_type": "stream",
     "text": [
      "100%|██████████| 44/44 [00:05<00:00,  8.09it/s]\n"
     ]
    },
    {
     "name": "stdout",
     "output_type": "stream",
     "text": [
      "{'0': {'precision': 0.8010471204188482, 'recall': 0.6023622047244095, 'f1-score': 0.6876404494382024, 'support': 254}, '1': {'precision': 0.6869565217391305, 'recall': 0.7719869706840391, 'f1-score': 0.7269938650306749, 'support': 307}, '2': {'precision': 0.6647727272727273, 'recall': 0.5154185022026432, 'f1-score': 0.5806451612903226, 'support': 227}, '3': {'precision': 0.6211340206185567, 'recall': 0.8607142857142858, 'f1-score': 0.7215568862275449, 'support': 280}, '4': {'precision': 0.44884488448844884, 'recall': 0.4, 'f1-score': 0.4230171073094868, 'support': 340}, '5': {'precision': 0.7628205128205128, 'recall': 0.5666666666666667, 'f1-score': 0.6502732240437158, 'support': 210}, '6': {'precision': 0.8508474576271187, 'recall': 0.8366666666666667, 'f1-score': 0.8436974789915967, 'support': 300}, '7': {'precision': 0.7180327868852459, 'recall': 0.73, 'f1-score': 0.7239669421487602, 'support': 300}, '8': {'precision': 0.8340248962655602, 'recall': 0.804, 'f1-score': 0.8187372708757638, 'support': 250}, '9': {'precision': 0.6983695652173914, 'recall': 0.8566666666666667, 'f1-score': 0.7694610778443115, 'support': 300}, 'accuracy': 0.6976156069364162, 'macro avg': {'precision': 0.7086850493353541, 'recall': 0.6944481963325377, 'f1-score': 0.6945989463200379, 'support': 2768}, 'weighted avg': {'precision': 0.7011066802847192, 'recall': 0.6976156069364162, 'f1-score': 0.6928812613537151, 'support': 2768}}\n"
     ]
    },
    {
     "data": {
      "image/png": "[encoded data removed]",
      "text/plain": [
       "<Figure size 640x480 with 2 Axes>"
      ]
     },
     "metadata": {},
     "output_type": "display_data"
    }
   ],
   "source": [
    "# load the saved model\n",
    "\n",
    "net.load_state_dict(torch.load(model_path))\n",
    "\n",
    "# evaluate the model on test set\n",
    "from sklearn.metrics import confusion_matrix,ConfusionMatrixDisplay\n",
    "\n",
    "print(\"Evaluate on test set\")\n",
    "yval_pred = []\n",
    "yval_label = []\n",
    "test_loss = 0.0\n",
    "n = 0\n",
    "with torch.no_grad():\n",
    "    if train_verbose:\n",
    "        pbar = tqdm(test_loader)\n",
    "    else:\n",
    "        pbar = test_loader\n",
    "    for data in pbar:\n",
    "        # prepare data\n",
    "        inputs, labels = data\n",
    "        inputs = inputs.to(device)\n",
    "        labels = labels.to(device)\n",
    "\n",
    "        # forward\n",
    "        outputs = net(inputs)\n",
    "        _, preds = torch.max(outputs, 1)\n",
    "\n",
    "        # statistics\n",
    "        loss = criteria(outputs, labels)\n",
    "        test_loss += loss.item()\n",
    "        n += 1\n",
    "\n",
    "        yval_label.extend(labels.cpu().numpy())\n",
    "        yval_pred.extend(outputs.argmax(dim=1).cpu().numpy())\n",
    "\n",
    "    # calculate loss and accuracy of validation\n",
    "    # print(yval_label)\n",
    "    # print(yval_pred)\n",
    "    if train_verbose:\n",
    "        report = classification_report(yval_label, yval_pred, output_dict=True)\n",
    "        acc = report[\"accuracy\"]\n",
    "        f1 = report[\"macro avg\"][\"f1-score\"]\n",
    "        M = confusion_matrix(yval_label, yval_pred)\n",
    "        print(report)\n",
    "        # print(M)\n",
    "        disp = ConfusionMatrixDisplay(confusion_matrix=M, display_labels=image_classes)\n",
    "        disp.plot()\n",
    "        plt.show()"
   ]
  },
  {
   "attachments": {},
   "cell_type": "markdown",
   "metadata": {},
   "source": [
    "### Result"
   ]
  },
  {
   "cell_type": "code",
   "execution_count": 37,
   "metadata": {},
   "outputs": [
    {
     "name": "stdout",
     "output_type": "stream",
     "text": [
      "Evaluate on test set\n"
     ]
    },
    {
     "name": "stderr",
     "output_type": "stream",
     "text": [
      "100%|██████████| 73/73 [01:50<00:00,  1.52s/it]\n"
     ]
    }
   ],
   "source": [
    "submission = pd.DataFrame(columns=['ID', 'filepath'])\n",
    "# get all file names in ./test\n",
    "test_dir = \"./test\"\n",
    "for filename in os.listdir(test_dir):\n",
    "        # Check if the file is an image\n",
    "        if filename.endswith(\".jpg\") or filename.endswith(\".png\"):\n",
    "            # Open the image file\n",
    "            image_path = os.path.join(test_dir, filename)\n",
    "            submission = submission.append({'ID': filename.removeprefix(\"test\").removesuffix(\".jpg\"), 'filepath': image_path}, ignore_index=True)\n",
    "\n",
    "# create a dataset for test set\n",
    "sub_dataset = TraffyFondueDataset(submission.values, transform=transform, train=False)\n",
    "\n",
    "# create a dataloader for test set\n",
    "sub_loader = torch.utils.data.DataLoader(sub_dataset, batch_size=batch_size, shuffle=False)\n",
    "\n",
    "# evaluate the model on test set\n",
    "print(\"Evaluate on test set\")\n",
    "ytest_pred = []\n",
    "with torch.no_grad():\n",
    "    if train_verbose:\n",
    "        pbar = tqdm(sub_loader)\n",
    "    else:\n",
    "        pbar = test_loader\n",
    "    for data in pbar:\n",
    "        # prepare data\n",
    "        inputs = data\n",
    "        inputs = inputs.to(device)\n",
    "\n",
    "        # forward\n",
    "        outputs = net(inputs)\n",
    "\n",
    "        # statistics\n",
    "        ytest_pred.extend(outputs.argmax(dim=1).cpu().numpy())\n",
    "\n",
    "submission['class'] = ytest_pred\n",
    "submission.to_csv('submission.csv', columns=['ID','class'], index=False)\n"
   ]
  },
  {
   "cell_type": "code",
   "execution_count": 38,
   "metadata": {},
   "outputs": [],
   "source": [
    "submission['class'] = ytest_pred\n",
    "submission.to_csv('submission.csv', columns=['ID','class'], index=False)"
   ]
  },
  {
   "cell_type": "code",
   "execution_count": null,
   "metadata": {},
   "outputs": [],
   "source": []
  }
 ],
 "metadata": {
  "kernelspec": {
   "display_name": "env",
   "language": "python",
   "name": "python3"
  },
  "language_info": {
   "codemirror_mode": {
    "name": "ipython",
    "version": 3
   },
   "file_extension": ".py",
   "mimetype": "text/x-python",
   "name": "python",
   "nbconvert_exporter": "python",
   "pygments_lexer": "ipython3",
   "version": "3.10.5"
  },
  "orig_nbformat": 4
 },
 "nbformat": 4,
 "nbformat_minor": 2
}
